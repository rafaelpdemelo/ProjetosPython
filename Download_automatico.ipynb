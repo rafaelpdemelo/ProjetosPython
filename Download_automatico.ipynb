{
 "cells": [
  {
   "cell_type": "code",
   "execution_count": 65,
   "id": "8a441ad4",
   "metadata": {},
   "outputs": [],
   "source": [
    "import pyautogui\n",
    "import pyperclip\n",
    "import time\n",
    "\n",
    "pyautogui.PAUSE = 1\n",
    "pyautogui.hotkey('ctrl', 't')\n",
    "link = \"https://docs.google.com/spreadsheets/d/12xWwjUa7evZ4A4LDHVn206-ab7jS8WbRqr5-6Yd-h8Q/edit#gid=1756963838\"\n",
    "pyperclip.copy(link)\n",
    "pyautogui.hotkey('ctrl', 'v')\n",
    "pyautogui.press(\"enter\")\n",
    "time.sleep(5)\n",
    "pyautogui.click(x=1237, y=253)\n",
    "pyautogui.click(x=1218, y=287)\n",
    "time.sleep(3)\n",
    "pyautogui.click(x=71, y=388)\n",
    "time.sleep(2)\n",
    "pyautogui.click(x=252, y=168, clicks=2)\n",
    "pyautogui.click(x=788, y=506)\n",
    "pyautogui.click(x=707, y=18)\n",
    "pyautogui.click(x=1237, y=253, button='right')\n",
    "pyautogui.click(x=1296, y=503)\n",
    "pyautogui.press('esc')\n",
    "for i in range (600):\n",
    "    pyautogui.click(x=1237, y=253)\n",
    "    pyautogui.click(x=1218, y=287)\n",
    "    time.sleep(3)\n",
    "    pyautogui.click(x=71, y=388)\n",
    "    time.sleep(2)\n",
    "    pyautogui.click(x=252, y=168, clicks=2)\n",
    "    pyautogui.click(x=788, y=506)\n",
    "    time.sleep(2)\n",
    "    pyautogui.click(x=1059, y=530)\n",
    "    pyautogui.click(x=707, y=18)\n",
    "    time.sleep(3)\n",
    "    pyautogui.click(x=1237, y=253, button='right')\n",
    "    pyautogui.click(x=1296, y=503)\n",
    "    time.sleep(5)\n",
    "    pyautogui.press('esc')\n"
   ]
  },
  {
   "cell_type": "code",
   "execution_count": 50,
   "id": "eef1e697",
   "metadata": {},
   "outputs": [],
   "source": [
    "import pandas as pd\n",
    "\n",
    "tabela = pd.read_excel(r'C:\\Users\\Desktop\\Downloads\\video-vimeo.xlsx')\n"
   ]
  },
  {
   "cell_type": "code",
   "execution_count": 62,
   "id": "75a9cd0b",
   "metadata": {},
   "outputs": [
    {
     "data": {
      "text/plain": [
       "Point(x=1059, y=530)"
      ]
     },
     "execution_count": 62,
     "metadata": {},
     "output_type": "execute_result"
    }
   ],
   "source": [
    "import time\n",
    "time.sleep(10)\n",
    "pyautogui.position()"
   ]
  },
  {
   "cell_type": "code",
   "execution_count": null,
   "id": "97c15e6e",
   "metadata": {},
   "outputs": [],
   "source": []
  }
 ],
 "metadata": {
  "kernelspec": {
   "display_name": "Python 3",
   "language": "python",
   "name": "python3"
  },
  "language_info": {
   "codemirror_mode": {
    "name": "ipython",
    "version": 3
   },
   "file_extension": ".py",
   "mimetype": "text/x-python",
   "name": "python",
   "nbconvert_exporter": "python",
   "pygments_lexer": "ipython3",
   "version": "3.8.8"
  }
 },
 "nbformat": 4,
 "nbformat_minor": 5
}
